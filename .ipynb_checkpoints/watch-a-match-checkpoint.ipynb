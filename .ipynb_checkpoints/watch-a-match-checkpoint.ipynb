{
 "cells": [
  {
   "cell_type": "code",
   "execution_count": 8,
   "metadata": {},
   "outputs": [],
   "source": [
    "from IPython.display import clear_output\n",
    "import gym\n",
    "import os, sys\n",
    "import torch\n",
    "import torch.nn as nn\n",
    "import torch.optim as optim\n",
    "import torch.nn.functional as f\n",
    "from torch.autograd import Variable\n",
    "import numpy as np\n",
    "import matplotlib.pyplot as plt\n",
    "import seaborn as sns\n",
    "import time\n",
    "import random\n",
    "from memories import ExperienceReplay\n",
    "import imp\n",
    "from gym import wrappers\n",
    "from gym.wrappers import AtariPreprocessing\n",
    "import json\n",
    "import qnet_agentsSAC_auto\n",
    "import subprocess\n",
    "\n",
    "%matplotlib inline"
   ]
  },
  {
   "cell_type": "markdown",
   "metadata": {},
   "source": [
    "# Reading Parameters"
   ]
  },
  {
   "cell_type": "code",
   "execution_count": 14,
   "metadata": {},
   "outputs": [
    {
     "name": "stdout",
     "output_type": "stream",
     "text": [
      "reading parameters...\n"
     ]
    }
   ],
   "source": [
    "print(\"reading parameters...\")\n",
    "config_file = \"config01.json\"\n",
    "config = json.load(open(config_file))\n",
    "\n",
    "#Id\n",
    "configId = config[\"configId\"]\n",
    "\n",
    "#env\n",
    "screen_size = config[\"env_parameters\"][\"screen_size\"]\n",
    "frame_skip = config[\"env_parameters\"][\"frame_skip\"]\n",
    "seed_value = config[\"env_parameters\"][\"seed_value\"]\n",
    "\n",
    "#agent\n",
    "gamma = config[\"agent_parameters\"][\"gamma\"]\n",
    "lr_Q = config[\"agent_parameters\"][\"lr_Q\"]\n",
    "lr_pi = config[\"agent_parameters\"][\"lr_pi\"]\n",
    "lr_alpha = config[\"agent_parameters\"][\"lr_alpha\"]\n",
    "tau = config[\"agent_parameters\"][\"tau\"]\n",
    "h_dim = config[\"agent_parameters\"][\"h_dim\"]\n",
    "h_mu_dim = config[\"agent_parameters\"][\"h_mu_dim\"]\n",
    "alpha = config[\"agent_parameters\"][\"alpha\"]\n",
    "entropy_rate = config[\"agent_parameters\"][\"entropy_rate\"]\n",
    "\n",
    "#training\n",
    "n_episodes = int(config[\"training_parameters\"][\"n_episodes\"])\n",
    "batch_size = config[\"training_parameters\"][\"batch_size\"]\n",
    "t_tot_cut = config[\"training_parameters\"][\"t_tot_cut\"]\n",
    "\n",
    "n_stacked = 3"
   ]
  },
  {
   "cell_type": "markdown",
   "metadata": {},
   "source": [
    "# Setup"
   ]
  },
  {
   "cell_type": "code",
   "execution_count": 15,
   "metadata": {},
   "outputs": [
    {
     "data": {
      "text/plain": [
       "<All keys matched successfully>"
      ]
     },
     "execution_count": 15,
     "metadata": {},
     "output_type": "execute_result"
    }
   ],
   "source": [
    "env = gym.make('SpaceInvaders-v4')\n",
    "env.spec.id = 'SpaceInvaders-v4'+\"NoFrameskip\"\n",
    "\n",
    "env = wrappers.AtariPreprocessing(env,grayscale_obs=True,frame_skip=frame_skip,grayscale_newaxis=True,screen_size=screen_size)\n",
    "\n",
    "n_states = env.observation_space.shape[0]\n",
    "n_actions = env.action_space.n\n",
    "\n",
    "QNet_Agent = qnet_agentsSAC_auto.QNet_Agent\n",
    "qnet_agent = QNet_Agent(n_states=n_states,\n",
    "                        n_actions=n_actions,\n",
    "                        gamma = gamma,\n",
    "                        lr_Q = lr_Q,\n",
    "                        lr_pi = lr_pi,\n",
    "                        lr_alpha = lr_alpha,\n",
    "                        tau = tau,\n",
    "                        h_dim = h_dim,\n",
    "                        h_mu_dim = h_mu_dim,\n",
    "                        entropy_rate = entropy_rate,\n",
    "                        alpha = alpha\n",
    "                       ).cuda()\n",
    "qnet_agent.Q.load_state_dict(torch.load(\"./saved_models/SpaceInvaders_Q_SAC_auto_{}.model\".format(configId)))\n",
    "qnet_agent.target_Q.load_state_dict(torch.load(\"./saved_models/SpaceInvaders_target_Q_SAC_auto_{}.model\".format(configId)))\n",
    "qnet_agent.pi.load_state_dict(torch.load(\"./saved_models/SpaceInvaders_pi_SAC_auto_{}.model\".format(configId)))\n"
   ]
  },
  {
   "cell_type": "markdown",
   "metadata": {},
   "source": [
    "# Watch it!"
   ]
  },
  {
   "cell_type": "code",
   "execution_count": 16,
   "metadata": {},
   "outputs": [],
   "source": [
    "save_video = False\n",
    "\n",
    "def format_index(t):\n",
    "    if t<10: return \"000{}\".format(t)\n",
    "    elif t<100: return \"00{}\".format(t)\n",
    "    elif t<1000: return \"0{}\".format(t)\n",
    "    else: return \"{}\".format(t)\n",
    "\n",
    "def generate_video(configId):\n",
    "    makeVideoCommand = \"ffmpeg -framerate 10 -f image2 -i ./videos/img%4d.jpg -y ./videos/{}.mp4\".format(configId)\n",
    "    process = subprocess.Popen(makeVideoCommand.split(), stdout=subprocess.PIPE)\n",
    "    output, error = process.communicate()\n",
    "\n",
    "    clearImgDataCommad = \"rm ./videos/img*.jpg\"\n",
    "    res = subprocess.call(clearImgDataCommad, shell=True)\n"
   ]
  },
  {
   "cell_type": "code",
   "execution_count": 17,
   "metadata": {},
   "outputs": [],
   "source": [
    "state = env.reset()\n",
    "state = np.transpose(state, [2,0,1])\n"
   ]
  },
  {
   "cell_type": "code",
   "execution_count": null,
   "metadata": {},
   "outputs": [],
   "source": []
  },
  {
   "cell_type": "code",
   "execution_count": 18,
   "metadata": {},
   "outputs": [
    {
     "data": {
      "image/png": "[encoded data removed]",
      "text/plain": [
       "<Figure size 720x576 with 1 Axes>"
      ]
     },
     "metadata": {
      "needs_background": "light"
     },
     "output_type": "display_data"
    }
   ],
   "source": [
    "env = gym.make('SpaceInvaders-v4')\n",
    "env.spec.id = 'SpaceInvaders-v4'+\"NoFrameskip\"\n",
    "env = wrappers.AtariPreprocessing(env,grayscale_obs=True,frame_skip=frame_skip,grayscale_newaxis=True,screen_size=screen_size)\n",
    "\n",
    "state = env.reset()\n",
    "state = np.transpose(state, [2,0,1])\n",
    "state_stack = np.array([state for n in range(n_stacked)])\n",
    "\n",
    "rewards = []\n",
    "actions = []\n",
    "t=0\n",
    "\n",
    "while True:\n",
    "    try:\n",
    "        state_cuda = torch.Tensor(state).cuda().unsqueeze(0)\n",
    "        action = qnet_agent.select_action(state_cuda)\n",
    "        new_state, reward, done, info = env.step(action) \n",
    "        new_state = np.transpose(new_state, [2,0,1])\n",
    "        \n",
    "        state = new_state\n",
    "\n",
    "        time.sleep(0.00001)\n",
    "        clear_output(True)\n",
    "        fig = plt.figure(figsize=(10,8))\n",
    "        ax = fig.add_subplot(111)\n",
    "        ax.imshow(np.transpose(state, [1,2,0]))\n",
    "        \n",
    "        if save_video:\n",
    "            plt.savefig(\"./videos/img{}.jpg\".format(format_index(t)))\n",
    "        \n",
    "        plt.show()\n",
    "        t+=1\n",
    "        \n",
    "        if t>1e4:\n",
    "            env.close()\n",
    "            break\n",
    "        if done: \n",
    "            env.close()\n",
    "            break\n",
    "    except KeyboardInterrupt:\n",
    "        env.close()\n",
    "        print(\"break\")\n",
    "        break\n",
    "\n",
    "if save_video:\n",
    "    generate_video(configId)"
   ]
  },
  {
   "cell_type": "code",
   "execution_count": null,
   "metadata": {},
   "outputs": [],
   "source": []
  }
 ],
 "metadata": {
  "kernelspec": {
   "display_name": "Python 3",
   "language": "python",
   "name": "python3"
  },
  "language_info": {
   "codemirror_mode": {
    "name": "ipython",
    "version": 3
   },
   "file_extension": ".py",
   "mimetype": "text/x-python",
   "name": "python",
   "nbconvert_exporter": "python",
   "pygments_lexer": "ipython3",
   "version": "3.8.3"
  }
 },
 "nbformat": 4,
 "nbformat_minor": 4
}
